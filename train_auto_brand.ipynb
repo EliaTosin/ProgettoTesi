{
 "cells": [
  {
   "cell_type": "code",
   "execution_count": 1,
   "metadata": {},
   "outputs": [
    {
     "data": {
      "text/html": [
       "<style>\n",
       "table {float:left}\n",
       "</style>\n"
      ],
      "text/plain": [
       "<IPython.core.display.HTML object>"
      ]
     },
     "metadata": {},
     "output_type": "display_data"
    }
   ],
   "source": [
    "%%html\n",
    "<style>\n",
    "table {float:left}\n",
    "</style>"
   ]
  },
  {
   "cell_type": "code",
   "execution_count": 2,
   "metadata": {
    "collapsed": false,
    "jupyter": {
     "outputs_hidden": false
    }
   },
   "outputs": [],
   "source": [
    "train_path = 'data/car_brand_logos/Train/'\n",
    "test_path = 'data/car_brand_logos/Test/'"
   ]
  },
  {
   "cell_type": "code",
   "execution_count": 3,
   "metadata": {
    "collapsed": false,
    "jupyter": {
     "outputs_hidden": false
    }
   },
   "outputs": [],
   "source": [
    "SAVE_PATH = 'trained/official_res18_25.pth'\n",
    "SAVE_PATH2 = 'trained/official_res18_25_best.pth'\n",
    "RUNS_PATH = 'runs/res18'\n",
    "\n",
    "log_to_tb = True"
   ]
  },
  {
   "cell_type": "markdown",
   "metadata": {},
   "source": [
    "## Data analysis:\n",
    "\n",
    "### Train set\n",
    "\n",
    "| Label name | | Number of images |\n",
    "| - | | - | \n",
    "| hyundai | | 302 | \n",
    "| lexus | | 301 | \n",
    "| mazda | | 317 | \n",
    "| mercedes | | 342 | \n",
    "| opel | | 301 | \n",
    "| skoda | | 314 | \n",
    "| toyota | | 306 | \n",
    "| volkswagen | | 330 | "
   ]
  },
  {
   "cell_type": "markdown",
   "metadata": {},
   "source": [
    "### Test set\n",
    "| Label name | | Number of images |\n",
    "| - | | - | \n",
    "| hyundai | | 50 | \n",
    "| lexus | | 50 | \n",
    "| mazda | | 50 | \n",
    "| mercedes | | 50 | \n",
    "| opel | | 50 | \n",
    "| skoda | | 50 | \n",
    "| toyota | | 50 | \n",
    "| volkswagen | | 50 | "
   ]
  },
  {
   "cell_type": "code",
   "execution_count": 4,
   "metadata": {
    "collapsed": false,
    "jupyter": {
     "outputs_hidden": false
    }
   },
   "outputs": [],
   "source": [
    "%matplotlib inline"
   ]
  },
  {
   "cell_type": "markdown",
   "metadata": {},
   "source": [
    "### Imports"
   ]
  },
  {
   "cell_type": "code",
   "execution_count": 5,
   "metadata": {
    "collapsed": false,
    "jupyter": {
     "outputs_hidden": false
    }
   },
   "outputs": [],
   "source": [
    "import torch\n",
    "from torch.utils.data import Dataset\n",
    "from torchvision import datasets\n",
    "from torchvision.transforms import ToTensor, Resize, ToPILImage, CenterCrop, Normalize\n",
    "from torchvision.transforms.functional import to_grayscale, to_tensor, rotate, hflip\n",
    "import matplotlib.pyplot as plt\n",
    "\n",
    "import os\n",
    "import random\n",
    "import pandas as pd\n",
    "from torchvision.io import read_image\n",
    "\n",
    "from torch.utils.data import DataLoader\n",
    "\n",
    "import torch.nn as nn\n",
    "import torch.nn.functional as F\n",
    "\n",
    "import torch.optim as optim\n",
    "\n",
    "from sklearn.metrics import classification_report, confusion_matrix\n",
    "\n",
    "from torch.utils.tensorboard import SummaryWriter\n",
    "from torchvision.utils import make_grid\n",
    "import seaborn as sn\n",
    "import numpy as np\n",
    "\n",
    "import io\n",
    "from PIL import Image\n",
    "\n",
    "from copy import deepcopy"
   ]
  },
  {
   "cell_type": "markdown",
   "metadata": {},
   "source": [
    "### Useful functions to retrive the data"
   ]
  },
  {
   "cell_type": "code",
   "execution_count": 6,
   "metadata": {},
   "outputs": [],
   "source": [
    "# create a annotations_file.csv (index -> img (name), label (int))\n",
    "\n",
    "def getLabelList(path):\n",
    "    only_dirs = [ name for name in os.listdir(path) if \n",
    "                 os.path.isdir(os.path.join(path, name)) ]\n",
    "\n",
    "    ret = {}\n",
    "    index = 0\n",
    "    \n",
    "    for d in only_dirs:\n",
    "        new_path = path + d\n",
    "        label = only_dirs.index(d)\n",
    "        # print(len(os.listdir(new_path)))\n",
    "        for img in [ name for name in os.listdir(new_path) ]:\n",
    "            ret[index] = [img, label]\n",
    "            index += 1\n",
    "    \n",
    "    return pd.Series(ret)"
   ]
  },
  {
   "cell_type": "code",
   "execution_count": 7,
   "metadata": {},
   "outputs": [],
   "source": [
    "# create the pool of images (with a series that contains all the images, more deeply: index -> abs path, label (int), class (string))\n",
    "\n",
    "def getImgPool(path):\n",
    "    only_dirs = [ name for name in os.listdir(path) if \n",
    "                 os.path.isdir(os.path.join(path, name)) ]\n",
    "\n",
    "    ret = {}\n",
    "    index = 0\n",
    "    \n",
    "    for d in only_dirs:\n",
    "        new_path = path + d\n",
    "        label = only_dirs.index(d)\n",
    "        # cnt = 0\n",
    "        for img in [ name for name in os.listdir(new_path) ]:\n",
    "            abs_path = new_path + '/' + img\n",
    "            ret[index] = [abs_path, label, d]\n",
    "            index += 1\n",
    "            # cnt += 1\n",
    "        # print(f\"Label: {d} - Number: {cnt}\")\n",
    "    \n",
    "    return pd.Series(ret)"
   ]
  },
  {
   "cell_type": "markdown",
   "metadata": {},
   "source": [
    "### Defining the custom dataset (structure that holds the data)\n",
    "\n",
    "#### old version"
   ]
  },
  {
   "cell_type": "code",
   "execution_count": 8,
   "metadata": {},
   "outputs": [],
   "source": [
    "# # wrong_images_path = []\n",
    "# import traceback\n",
    "\n",
    "# class CustomImageDataset(Dataset):\n",
    "#     def __init__(self, path_labels, transform=None, target_transform=None, use_aug=True):\n",
    "#         self.img_labels = getLabelList(path_labels)\n",
    "#         self.images = getImgPool(path_labels)\n",
    "#         self.transform = transform\n",
    "#         self.target_transform = target_transform\n",
    "#         self.use_aug = use_aug\n",
    "\n",
    "#     def __len__(self):\n",
    "#         return len(self.img_labels)\n",
    "\n",
    "#     def __getitem__(self, idx):\n",
    "#         try: \n",
    "#             image = read_image(self.images.loc[idx][0])\n",
    "#         except Exception:\n",
    "#             print('Found error at {} {}'.format(self.images.loc[idx][0], idx))\n",
    "#         #     wrong_images_path.append(self.images.loc[img_name][0])\n",
    "#             #return torch.zeros((1, 600, 600)), -1\n",
    "#         # image = read_image(self.images.loc[img_name][0])\n",
    "#         if image.shape[0] >= 3: #apply grayscale to colored img\n",
    "#             image = to_tensor(to_grayscale(ToPILImage()(image), num_output_channels=1))\n",
    "#         else: #we have a greyscaled image, move it into tensor \n",
    "#             image = to_tensor(ToPILImage()(image))\n",
    "            \n",
    "#         image = Resize((300, 300))(image)\n",
    "#         #data augmentation\n",
    "#         if self.use_aug:\n",
    "#             fr = random.choices([0,1],[0.2,0.8])[0]\n",
    "#             if fr == 1: \n",
    "#                 angle = torch.randint(40, size=(1,)).item() - 20\n",
    "#                 #print (f'Rotate: {angle}')\n",
    "#                 image = rotate(image, angle)\n",
    "\n",
    "#             fr = random.choices([0,1],[0.5,0.5])[0]\n",
    "#             if fr == 1: \n",
    "#                 image = hflip(image)\n",
    "        \n",
    "#         #image = image.permute(1,2,0) #made to be shown on matplotlib\n",
    "#         label = self.img_labels.loc[idx][1]\n",
    "#         #if self.transform:\n",
    "#         #    image = self.transform(image)\n",
    "#         #if self.target_transform:\n",
    "#         #    label = self.target_transform(label)\n",
    "        \n",
    "#         return image, label"
   ]
  },
  {
   "cell_type": "markdown",
   "metadata": {},
   "source": [
    "#### new version (resnet)"
   ]
  },
  {
   "cell_type": "code",
   "execution_count": 9,
   "metadata": {},
   "outputs": [],
   "source": [
    "# wrong_images_path = []\n",
    "import traceback\n",
    "\n",
    "class CustomImageDataset(Dataset):\n",
    "    def __init__(self, path_labels, transform=None, target_transform=None, use_aug=True):\n",
    "        self.img_labels = getLabelList(path_labels)\n",
    "        self.images = getImgPool(path_labels)\n",
    "        self.transform = transform\n",
    "        self.target_transform = target_transform\n",
    "        self.use_aug = use_aug\n",
    "\n",
    "    def __len__(self):\n",
    "        return len(self.img_labels)\n",
    "\n",
    "    def __getitem__(self, idx):\n",
    "        try: \n",
    "            image = read_image(self.images.loc[idx][0])\n",
    "        except Exception:\n",
    "            print('Found error at {} {}'.format(self.images.loc[idx][0], idx))\n",
    "        #     wrong_images_path.append(self.images.loc[img_name][0])\n",
    "            #return torch.zeros((1, 600, 600)), -1\n",
    "        # image = read_image(self.images.loc[img_name][0])\n",
    "        if image.shape[0] != 3: #color grayscaled and convert RGBA\n",
    "            image = to_tensor(to_grayscale(ToPILImage()(image), num_output_channels=3))\n",
    "        else: #we have a greyscaled image, move it into tensor \n",
    "            image = to_tensor(ToPILImage()(image))\n",
    "            \n",
    "        image = Resize((256, 256))(image)\n",
    "        image = CenterCrop(224)(image)\n",
    "        image = Normalize(mean=[0.485, 0.456, 0.406], std=[0.229, 0.224, 0.225])(image)\n",
    "        #data augmentation\n",
    "        if self.use_aug:\n",
    "            fr = random.choices([0,1],[0.2,0.8])[0]\n",
    "            if fr == 1: \n",
    "                angle = torch.randint(40, size=(1,)).item() - 20\n",
    "                #print (f'Rotate: {angle}')\n",
    "                image = rotate(image, angle)\n",
    "\n",
    "            fr = random.choices([0,1],[0.5,0.5])[0]\n",
    "            if fr == 1: \n",
    "                image = hflip(image)\n",
    "        \n",
    "        #image = image.permute(1,2,0) #made to be shown on matplotlib\n",
    "        label = self.img_labels.loc[idx][1]\n",
    "        #if self.transform:\n",
    "        #    image = self.transform(image)\n",
    "        #if self.target_transform:\n",
    "        #    label = self.target_transform(label)\n",
    "        \n",
    "        return image, label"
   ]
  },
  {
   "cell_type": "markdown",
   "metadata": {},
   "source": [
    "### Creating the 2 dataset and testing"
   ]
  },
  {
   "cell_type": "code",
   "execution_count": 10,
   "metadata": {
    "collapsed": false,
    "jupyter": {
     "outputs_hidden": false
    }
   },
   "outputs": [
    {
     "name": "stdout",
     "output_type": "stream",
     "text": [
      "train dataset: 2513\n",
      "test dataset: 400\n"
     ]
    }
   ],
   "source": [
    "# train_data = CustomImageDataset(path_labels=train_path, transform=ToTensor(), num_of_channels=3)\n",
    "# test_data = CustomImageDataset(path_labels=test_path, transform=ToTensor(), num_of_channels=3)\n",
    "\n",
    "train_data = CustomImageDataset(path_labels=train_path, transform=ToTensor(), target_transform=ToTensor(), use_aug=True)\n",
    "\n",
    "test_data = CustomImageDataset(path_labels=test_path, transform=ToTensor(), target_transform=ToTensor(), use_aug=False)\n",
    "\n",
    "print (f'train dataset: {train_data.__len__()}')\n",
    "print (f'test dataset: {test_data.__len__()}')"
   ]
  },
  {
   "cell_type": "code",
   "execution_count": 11,
   "metadata": {},
   "outputs": [
    {
     "name": "stderr",
     "output_type": "stream",
     "text": [
      "Clipping input data to the valid range for imshow with RGB data ([0..1] for floats or [0..255] for integers).\n",
      "Clipping input data to the valid range for imshow with RGB data ([0..1] for floats or [0..255] for integers).\n",
      "Clipping input data to the valid range for imshow with RGB data ([0..1] for floats or [0..255] for integers).\n",
      "Clipping input data to the valid range for imshow with RGB data ([0..1] for floats or [0..255] for integers).\n",
      "Clipping input data to the valid range for imshow with RGB data ([0..1] for floats or [0..255] for integers).\n",
      "Clipping input data to the valid range for imshow with RGB data ([0..1] for floats or [0..255] for integers).\n",
      "Clipping input data to the valid range for imshow with RGB data ([0..1] for floats or [0..255] for integers).\n",
      "Clipping input data to the valid range for imshow with RGB data ([0..1] for floats or [0..255] for integers).\n",
      "Clipping input data to the valid range for imshow with RGB data ([0..1] for floats or [0..255] for integers).\n"
     ]
    },
    {
     "data": {
      "image/png": "[encoded data removed]",
      "text/plain": [
       "<Figure size 576x576 with 9 Axes>"
      ]
     },
     "metadata": {
      "needs_background": "light"
     },
     "output_type": "display_data"
    }
   ],
   "source": [
    "#testing dataset if images are loaded\n",
    "\n",
    "only_dirs = [ name for name in os.listdir(train_path) if \n",
    "                 os.path.isdir(os.path.join(train_path, name)) ]\n",
    "\n",
    "diz = {}\n",
    "nocl=0 #num of classes\n",
    "for d in only_dirs:\n",
    "    diz[nocl] = d\n",
    "    nocl+=1\n",
    "\n",
    "figure = plt.figure(figsize=(8, 8))\n",
    "cols, rows = 3, 3\n",
    "for i in range(1, cols * rows + 1):\n",
    "    sample_idx = torch.randint(len(train_data), size=(1,)).item() \n",
    "    img, label = train_data[sample_idx]\n",
    "    # print (img.shape, img.dtype, label)\n",
    "    figure.add_subplot(rows, cols, i)\n",
    "    plt.title(diz[label])\n",
    "    plt.axis(\"off\")\n",
    "    # plt.imshow(img.squeeze(), cmap='gray')\n",
    "    plt.imshow(img.permute(1,2,0)) #use this if rbg\n",
    "plt.show()"
   ]
  },
  {
   "cell_type": "markdown",
   "metadata": {},
   "source": [
    "### creating dataloader (who iterate on data, create batches and shuffles it)\n"
   ]
  },
  {
   "cell_type": "code",
   "execution_count": 13,
   "metadata": {},
   "outputs": [
    {
     "name": "stderr",
     "output_type": "stream",
     "text": [
      "Clipping input data to the valid range for imshow with RGB data ([0..1] for floats or [0..255] for integers).\n"
     ]
    },
    {
     "name": "stdout",
     "output_type": "stream",
     "text": [
      "Feature batch shape: torch.Size([8, 3, 224, 224])\n",
      "Labels batch shape: torch.Size([8])\n"
     ]
    },
    {
     "data": {
      "image/png": "[encoded data removed]",
      "text/plain": [
       "<Figure size 432x288 with 1 Axes>"
      ]
     },
     "metadata": {
      "needs_background": "light"
     },
     "output_type": "display_data"
    },
    {
     "name": "stdout",
     "output_type": "stream",
     "text": [
      "Label: skoda\n"
     ]
    }
   ],
   "source": [
    "train_dl = DataLoader(train_data, batch_size=8, shuffle=True, pin_memory=True)\n",
    "test_dl = DataLoader(test_data, batch_size=8, shuffle=True)\n",
    "\n",
    "#dataloader test (ask a batch or a sample)\n",
    "images, labels = next(iter(train_dl)) #picking a batch\n",
    "print(f\"Feature batch shape: {images.size()}\")\n",
    "print(f\"Labels batch shape: {labels.size()}\")\n",
    "img = images[0]#picking the first img and label of the batch\n",
    "label = labels[0]\n",
    "# plt.imshow(img, cmap='gray')\n",
    "plt.imshow(img.permute(1,2,0)) #use this if rbg\n",
    "plt.show()\n",
    "print(f\"Label: {diz[label.item()]}\")"
   ]
  },
  {
   "cell_type": "code",
   "execution_count": 14,
   "metadata": {},
   "outputs": [
    {
     "data": {
      "text/plain": [
       "tensor([5, 5, 6, 0, 6, 0, 5, 3])"
      ]
     },
     "execution_count": 14,
     "metadata": {},
     "output_type": "execute_result"
    }
   ],
   "source": [
    "labels"
   ]
  },
  {
   "cell_type": "markdown",
   "metadata": {},
   "source": [
    "### Defining the neural network"
   ]
  },
  {
   "cell_type": "code",
   "execution_count": 15,
   "metadata": {},
   "outputs": [
    {
     "name": "stdout",
     "output_type": "stream",
     "text": [
      "GPU compute available:  True\n"
     ]
    }
   ],
   "source": [
    "print(\"GPU compute available: \", torch.cuda.is_available())\n"
   ]
  },
  {
   "cell_type": "code",
   "execution_count": 16,
   "metadata": {},
   "outputs": [
    {
     "name": "stdout",
     "output_type": "stream",
     "text": [
      "cuda:0\n"
     ]
    }
   ],
   "source": [
    "device = torch.device('cuda:0' if torch.cuda.is_available() else 'cpu')\n",
    "\n",
    "print(device)"
   ]
  },
  {
   "cell_type": "code",
   "execution_count": 17,
   "metadata": {},
   "outputs": [],
   "source": [
    "# class Net(nn.Module):\n",
    "\n",
    "#     def __init__(self):\n",
    "#         super(Net, self).__init__()\n",
    "        \n",
    "#         #conv1: 1 input image channel (image channel, 1 gray, 3 rgb), 6 output channels (depth [K]), 5x5 square convolution kernel, DEFAULT: stride = 1,1, padding = 0\n",
    "#         self.conv1 = nn.Conv2d(1, 6, 5)\n",
    "#         self.pool = nn.MaxPool2d(2, 2)\n",
    "#         self.conv2 = nn.Conv2d(6, 16, 5)        \n",
    "#         self.fc_layer1 = nn.Linear(16 * 72 * 72, 120)        \n",
    "#         self.fc_layer2 = nn.Linear(120, 84)\n",
    "#         self.fc_layer3 = nn.Linear(84, nocl) # nocl is the num of classes\n",
    "\n",
    "#     def forward(self, x):\n",
    "#         # Max pooling over a (2, 2) window\n",
    "#         x = self.pool(F.relu(self.conv1(x)))\n",
    "#         #print ('conv1', x.shape)\n",
    "#         # If the size is a square, you can specify with a single number\n",
    "#         x = self.pool(F.relu(self.conv2(x)))\n",
    "#         x = torch.flatten(x, 1) # flatten all dimensions except the batch dimension\n",
    "#         #print ('flatten', x.shape)\n",
    "#         x = F.relu(self.fc_layer1(x))\n",
    "#         x = F.relu(self.fc_layer2(x))\n",
    "#         x = self.fc_layer3(x)\n",
    "#         return x"
   ]
  },
  {
   "cell_type": "code",
   "execution_count": 18,
   "metadata": {},
   "outputs": [],
   "source": [
    "# net = Net()\n",
    "# net.to(device)"
   ]
  },
  {
   "cell_type": "code",
   "execution_count": 19,
   "metadata": {},
   "outputs": [
    {
     "name": "stderr",
     "output_type": "stream",
     "text": [
      "Using cache found in C:\\Users\\eliad/.cache\\torch\\hub\\pytorch_vision_v0.10.0\n"
     ]
    },
    {
     "data": {
      "text/plain": [
       "ResNet(\n",
       "  (conv1): Conv2d(3, 64, kernel_size=(7, 7), stride=(2, 2), padding=(3, 3), bias=False)\n",
       "  (bn1): BatchNorm2d(64, eps=1e-05, momentum=0.1, affine=True, track_running_stats=True)\n",
       "  (relu): ReLU(inplace=True)\n",
       "  (maxpool): MaxPool2d(kernel_size=3, stride=2, padding=1, dilation=1, ceil_mode=False)\n",
       "  (layer1): Sequential(\n",
       "    (0): BasicBlock(\n",
       "      (conv1): Conv2d(64, 64, kernel_size=(3, 3), stride=(1, 1), padding=(1, 1), bias=False)\n",
       "      (bn1): BatchNorm2d(64, eps=1e-05, momentum=0.1, affine=True, track_running_stats=True)\n",
       "      (relu): ReLU(inplace=True)\n",
       "      (conv2): Conv2d(64, 64, kernel_size=(3, 3), stride=(1, 1), padding=(1, 1), bias=False)\n",
       "      (bn2): BatchNorm2d(64, eps=1e-05, momentum=0.1, affine=True, track_running_stats=True)\n",
       "    )\n",
       "    (1): BasicBlock(\n",
       "      (conv1): Conv2d(64, 64, kernel_size=(3, 3), stride=(1, 1), padding=(1, 1), bias=False)\n",
       "      (bn1): BatchNorm2d(64, eps=1e-05, momentum=0.1, affine=True, track_running_stats=True)\n",
       "      (relu): ReLU(inplace=True)\n",
       "      (conv2): Conv2d(64, 64, kernel_size=(3, 3), stride=(1, 1), padding=(1, 1), bias=False)\n",
       "      (bn2): BatchNorm2d(64, eps=1e-05, momentum=0.1, affine=True, track_running_stats=True)\n",
       "    )\n",
       "  )\n",
       "  (layer2): Sequential(\n",
       "    (0): BasicBlock(\n",
       "      (conv1): Conv2d(64, 128, kernel_size=(3, 3), stride=(2, 2), padding=(1, 1), bias=False)\n",
       "      (bn1): BatchNorm2d(128, eps=1e-05, momentum=0.1, affine=True, track_running_stats=True)\n",
       "      (relu): ReLU(inplace=True)\n",
       "      (conv2): Conv2d(128, 128, kernel_size=(3, 3), stride=(1, 1), padding=(1, 1), bias=False)\n",
       "      (bn2): BatchNorm2d(128, eps=1e-05, momentum=0.1, affine=True, track_running_stats=True)\n",
       "      (downsample): Sequential(\n",
       "        (0): Conv2d(64, 128, kernel_size=(1, 1), stride=(2, 2), bias=False)\n",
       "        (1): BatchNorm2d(128, eps=1e-05, momentum=0.1, affine=True, track_running_stats=True)\n",
       "      )\n",
       "    )\n",
       "    (1): BasicBlock(\n",
       "      (conv1): Conv2d(128, 128, kernel_size=(3, 3), stride=(1, 1), padding=(1, 1), bias=False)\n",
       "      (bn1): BatchNorm2d(128, eps=1e-05, momentum=0.1, affine=True, track_running_stats=True)\n",
       "      (relu): ReLU(inplace=True)\n",
       "      (conv2): Conv2d(128, 128, kernel_size=(3, 3), stride=(1, 1), padding=(1, 1), bias=False)\n",
       "      (bn2): BatchNorm2d(128, eps=1e-05, momentum=0.1, affine=True, track_running_stats=True)\n",
       "    )\n",
       "  )\n",
       "  (layer3): Sequential(\n",
       "    (0): BasicBlock(\n",
       "      (conv1): Conv2d(128, 256, kernel_size=(3, 3), stride=(2, 2), padding=(1, 1), bias=False)\n",
       "      (bn1): BatchNorm2d(256, eps=1e-05, momentum=0.1, affine=True, track_running_stats=True)\n",
       "      (relu): ReLU(inplace=True)\n",
       "      (conv2): Conv2d(256, 256, kernel_size=(3, 3), stride=(1, 1), padding=(1, 1), bias=False)\n",
       "      (bn2): BatchNorm2d(256, eps=1e-05, momentum=0.1, affine=True, track_running_stats=True)\n",
       "      (downsample): Sequential(\n",
       "        (0): Conv2d(128, 256, kernel_size=(1, 1), stride=(2, 2), bias=False)\n",
       "        (1): BatchNorm2d(256, eps=1e-05, momentum=0.1, affine=True, track_running_stats=True)\n",
       "      )\n",
       "    )\n",
       "    (1): BasicBlock(\n",
       "      (conv1): Conv2d(256, 256, kernel_size=(3, 3), stride=(1, 1), padding=(1, 1), bias=False)\n",
       "      (bn1): BatchNorm2d(256, eps=1e-05, momentum=0.1, affine=True, track_running_stats=True)\n",
       "      (relu): ReLU(inplace=True)\n",
       "      (conv2): Conv2d(256, 256, kernel_size=(3, 3), stride=(1, 1), padding=(1, 1), bias=False)\n",
       "      (bn2): BatchNorm2d(256, eps=1e-05, momentum=0.1, affine=True, track_running_stats=True)\n",
       "    )\n",
       "  )\n",
       "  (layer4): Sequential(\n",
       "    (0): BasicBlock(\n",
       "      (conv1): Conv2d(256, 512, kernel_size=(3, 3), stride=(2, 2), padding=(1, 1), bias=False)\n",
       "      (bn1): BatchNorm2d(512, eps=1e-05, momentum=0.1, affine=True, track_running_stats=True)\n",
       "      (relu): ReLU(inplace=True)\n",
       "      (conv2): Conv2d(512, 512, kernel_size=(3, 3), stride=(1, 1), padding=(1, 1), bias=False)\n",
       "      (bn2): BatchNorm2d(512, eps=1e-05, momentum=0.1, affine=True, track_running_stats=True)\n",
       "      (downsample): Sequential(\n",
       "        (0): Conv2d(256, 512, kernel_size=(1, 1), stride=(2, 2), bias=False)\n",
       "        (1): BatchNorm2d(512, eps=1e-05, momentum=0.1, affine=True, track_running_stats=True)\n",
       "      )\n",
       "    )\n",
       "    (1): BasicBlock(\n",
       "      (conv1): Conv2d(512, 512, kernel_size=(3, 3), stride=(1, 1), padding=(1, 1), bias=False)\n",
       "      (bn1): BatchNorm2d(512, eps=1e-05, momentum=0.1, affine=True, track_running_stats=True)\n",
       "      (relu): ReLU(inplace=True)\n",
       "      (conv2): Conv2d(512, 512, kernel_size=(3, 3), stride=(1, 1), padding=(1, 1), bias=False)\n",
       "      (bn2): BatchNorm2d(512, eps=1e-05, momentum=0.1, affine=True, track_running_stats=True)\n",
       "    )\n",
       "  )\n",
       "  (avgpool): AdaptiveAvgPool2d(output_size=(1, 1))\n",
       "  (fc): Linear(in_features=512, out_features=1000, bias=True)\n",
       ")"
      ]
     },
     "execution_count": 19,
     "metadata": {},
     "output_type": "execute_result"
    }
   ],
   "source": [
    "net = torch.hub.load('pytorch/vision:v0.10.0', 'resnet18', pretrained=False)\n",
    "net.to(device)"
   ]
  },
  {
   "cell_type": "code",
   "execution_count": 20,
   "metadata": {},
   "outputs": [
    {
     "name": "stdout",
     "output_type": "stream",
     "text": [
      "62\n",
      "torch.Size([64, 3, 7, 7])\n"
     ]
    }
   ],
   "source": [
    "#test\n",
    "params = list(net.parameters())\n",
    "print(len(params))\n",
    "print(params[0].size())  # conv1's .weight"
   ]
  },
  {
   "cell_type": "code",
   "execution_count": 21,
   "metadata": {},
   "outputs": [],
   "source": [
    "# loss function\n",
    "criterion = nn.CrossEntropyLoss()\n",
    "# use gradient descent\n",
    "optimizer = optim.SGD(net.parameters(), lr=0.001, momentum=0.9)"
   ]
  },
  {
   "cell_type": "code",
   "execution_count": 22,
   "metadata": {},
   "outputs": [],
   "source": [
    "# best_net = Net()\n",
    "# best_net.to(device)"
   ]
  },
  {
   "cell_type": "code",
   "execution_count": 23,
   "metadata": {},
   "outputs": [
    {
     "name": "stderr",
     "output_type": "stream",
     "text": [
      "Using cache found in C:\\Users\\eliad/.cache\\torch\\hub\\pytorch_vision_v0.10.0\n"
     ]
    },
    {
     "data": {
      "text/plain": [
       "ResNet(\n",
       "  (conv1): Conv2d(3, 64, kernel_size=(7, 7), stride=(2, 2), padding=(3, 3), bias=False)\n",
       "  (bn1): BatchNorm2d(64, eps=1e-05, momentum=0.1, affine=True, track_running_stats=True)\n",
       "  (relu): ReLU(inplace=True)\n",
       "  (maxpool): MaxPool2d(kernel_size=3, stride=2, padding=1, dilation=1, ceil_mode=False)\n",
       "  (layer1): Sequential(\n",
       "    (0): BasicBlock(\n",
       "      (conv1): Conv2d(64, 64, kernel_size=(3, 3), stride=(1, 1), padding=(1, 1), bias=False)\n",
       "      (bn1): BatchNorm2d(64, eps=1e-05, momentum=0.1, affine=True, track_running_stats=True)\n",
       "      (relu): ReLU(inplace=True)\n",
       "      (conv2): Conv2d(64, 64, kernel_size=(3, 3), stride=(1, 1), padding=(1, 1), bias=False)\n",
       "      (bn2): BatchNorm2d(64, eps=1e-05, momentum=0.1, affine=True, track_running_stats=True)\n",
       "    )\n",
       "    (1): BasicBlock(\n",
       "      (conv1): Conv2d(64, 64, kernel_size=(3, 3), stride=(1, 1), padding=(1, 1), bias=False)\n",
       "      (bn1): BatchNorm2d(64, eps=1e-05, momentum=0.1, affine=True, track_running_stats=True)\n",
       "      (relu): ReLU(inplace=True)\n",
       "      (conv2): Conv2d(64, 64, kernel_size=(3, 3), stride=(1, 1), padding=(1, 1), bias=False)\n",
       "      (bn2): BatchNorm2d(64, eps=1e-05, momentum=0.1, affine=True, track_running_stats=True)\n",
       "    )\n",
       "  )\n",
       "  (layer2): Sequential(\n",
       "    (0): BasicBlock(\n",
       "      (conv1): Conv2d(64, 128, kernel_size=(3, 3), stride=(2, 2), padding=(1, 1), bias=False)\n",
       "      (bn1): BatchNorm2d(128, eps=1e-05, momentum=0.1, affine=True, track_running_stats=True)\n",
       "      (relu): ReLU(inplace=True)\n",
       "      (conv2): Conv2d(128, 128, kernel_size=(3, 3), stride=(1, 1), padding=(1, 1), bias=False)\n",
       "      (bn2): BatchNorm2d(128, eps=1e-05, momentum=0.1, affine=True, track_running_stats=True)\n",
       "      (downsample): Sequential(\n",
       "        (0): Conv2d(64, 128, kernel_size=(1, 1), stride=(2, 2), bias=False)\n",
       "        (1): BatchNorm2d(128, eps=1e-05, momentum=0.1, affine=True, track_running_stats=True)\n",
       "      )\n",
       "    )\n",
       "    (1): BasicBlock(\n",
       "      (conv1): Conv2d(128, 128, kernel_size=(3, 3), stride=(1, 1), padding=(1, 1), bias=False)\n",
       "      (bn1): BatchNorm2d(128, eps=1e-05, momentum=0.1, affine=True, track_running_stats=True)\n",
       "      (relu): ReLU(inplace=True)\n",
       "      (conv2): Conv2d(128, 128, kernel_size=(3, 3), stride=(1, 1), padding=(1, 1), bias=False)\n",
       "      (bn2): BatchNorm2d(128, eps=1e-05, momentum=0.1, affine=True, track_running_stats=True)\n",
       "    )\n",
       "  )\n",
       "  (layer3): Sequential(\n",
       "    (0): BasicBlock(\n",
       "      (conv1): Conv2d(128, 256, kernel_size=(3, 3), stride=(2, 2), padding=(1, 1), bias=False)\n",
       "      (bn1): BatchNorm2d(256, eps=1e-05, momentum=0.1, affine=True, track_running_stats=True)\n",
       "      (relu): ReLU(inplace=True)\n",
       "      (conv2): Conv2d(256, 256, kernel_size=(3, 3), stride=(1, 1), padding=(1, 1), bias=False)\n",
       "      (bn2): BatchNorm2d(256, eps=1e-05, momentum=0.1, affine=True, track_running_stats=True)\n",
       "      (downsample): Sequential(\n",
       "        (0): Conv2d(128, 256, kernel_size=(1, 1), stride=(2, 2), bias=False)\n",
       "        (1): BatchNorm2d(256, eps=1e-05, momentum=0.1, affine=True, track_running_stats=True)\n",
       "      )\n",
       "    )\n",
       "    (1): BasicBlock(\n",
       "      (conv1): Conv2d(256, 256, kernel_size=(3, 3), stride=(1, 1), padding=(1, 1), bias=False)\n",
       "      (bn1): BatchNorm2d(256, eps=1e-05, momentum=0.1, affine=True, track_running_stats=True)\n",
       "      (relu): ReLU(inplace=True)\n",
       "      (conv2): Conv2d(256, 256, kernel_size=(3, 3), stride=(1, 1), padding=(1, 1), bias=False)\n",
       "      (bn2): BatchNorm2d(256, eps=1e-05, momentum=0.1, affine=True, track_running_stats=True)\n",
       "    )\n",
       "  )\n",
       "  (layer4): Sequential(\n",
       "    (0): BasicBlock(\n",
       "      (conv1): Conv2d(256, 512, kernel_size=(3, 3), stride=(2, 2), padding=(1, 1), bias=False)\n",
       "      (bn1): BatchNorm2d(512, eps=1e-05, momentum=0.1, affine=True, track_running_stats=True)\n",
       "      (relu): ReLU(inplace=True)\n",
       "      (conv2): Conv2d(512, 512, kernel_size=(3, 3), stride=(1, 1), padding=(1, 1), bias=False)\n",
       "      (bn2): BatchNorm2d(512, eps=1e-05, momentum=0.1, affine=True, track_running_stats=True)\n",
       "      (downsample): Sequential(\n",
       "        (0): Conv2d(256, 512, kernel_size=(1, 1), stride=(2, 2), bias=False)\n",
       "        (1): BatchNorm2d(512, eps=1e-05, momentum=0.1, affine=True, track_running_stats=True)\n",
       "      )\n",
       "    )\n",
       "    (1): BasicBlock(\n",
       "      (conv1): Conv2d(512, 512, kernel_size=(3, 3), stride=(1, 1), padding=(1, 1), bias=False)\n",
       "      (bn1): BatchNorm2d(512, eps=1e-05, momentum=0.1, affine=True, track_running_stats=True)\n",
       "      (relu): ReLU(inplace=True)\n",
       "      (conv2): Conv2d(512, 512, kernel_size=(3, 3), stride=(1, 1), padding=(1, 1), bias=False)\n",
       "      (bn2): BatchNorm2d(512, eps=1e-05, momentum=0.1, affine=True, track_running_stats=True)\n",
       "    )\n",
       "  )\n",
       "  (avgpool): AdaptiveAvgPool2d(output_size=(1, 1))\n",
       "  (fc): Linear(in_features=512, out_features=1000, bias=True)\n",
       ")"
      ]
     },
     "execution_count": 23,
     "metadata": {},
     "output_type": "execute_result"
    }
   ],
   "source": [
    "best_net = torch.hub.load('pytorch/vision:v0.10.0', 'resnet18', pretrained=False)\n",
    "best_net.to(device)"
   ]
  },
  {
   "cell_type": "markdown",
   "metadata": {},
   "source": [
    "### Tensorboard setup\n",
    "\n",
    "start tensorboard: `tensorboard --logdir=Users\\eliad\\Tesi\\ProgettoTesi\\runs\\car_brands_1`"
   ]
  },
  {
   "cell_type": "code",
   "execution_count": 24,
   "metadata": {},
   "outputs": [
    {
     "name": "stdout",
     "output_type": "stream",
     "text": [
      "torch.Size([3, 224, 224]) torch.float32\n",
      "torch.Size([3, 224, 224]) torch.float32\n",
      "torch.Size([3, 224, 224]) torch.float32\n",
      "torch.Size([3, 224, 224]) torch.float32\n"
     ]
    }
   ],
   "source": [
    "if log_to_tb:\n",
    "    writer = SummaryWriter(RUNS_PATH)\n",
    "\n",
    "    # get some random training images\n",
    "    dataiter = iter(train_dl)\n",
    "    images, labels = dataiter.next()\n",
    "\n",
    "    #visualizing and adding images into tb\n",
    "    for idx in range(4):    \n",
    "        img = images[idx]\n",
    "        # plt.imshow(img.squeeze(), cmap='gray')\n",
    "        # plt.imshow(img.permute(1,2,0)) #use this if rbg\n",
    "        # plt.show()\n",
    "        print (img.shape, img.dtype)\n",
    "        writer.add_image(f\"car_brands_images_{idx+1}\", img)\n",
    "\n",
    "    writer.close()\n",
    "\n",
    "    ### Adding the graph of the network into Tensorboard\n",
    "\n",
    "    writer.add_graph(net, images.to(device))\n",
    "    writer.close()\n",
    "\n",
    "    ### Adding the projector \n",
    "\n",
    "#     tmp_dl = DataLoader(train_data, batch_size=100, shuffle=True)\n",
    "#     images, labels = next(iter(tmp_dl))\n",
    "\n",
    "#     # get the class labels for each image\n",
    "#     class_labels = [diz[lab.item()] for lab in labels]\n",
    "    \n",
    "    \n",
    "#     print(len(class_labels))\n",
    "#     print(len(labels))\n",
    "#     print(images.size())\n",
    "\n",
    "\n",
    "#     images = Resize((28, 28))(images)\n",
    "\n",
    "#     features = images.view(-1, 28 * 28)\n",
    "#     #this should be something [100, ...] to equal the dim of the labels, with rgb got 300\n",
    "#     writer.add_embedding(features,\n",
    "#                         metadata=class_labels,\n",
    "#                         label_img=images)\n",
    "    writer.close()"
   ]
  },
  {
   "cell_type": "markdown",
   "metadata": {},
   "source": [
    "### Confusion matrix during training"
   ]
  },
  {
   "cell_type": "code",
   "execution_count": 25,
   "metadata": {},
   "outputs": [],
   "source": [
    "def createConfusionMatrix(loader, netw):\n",
    "    y_pred = [] # save predction\n",
    "    y_true = [] # save ground truth\n",
    "\n",
    "    # iterate over data\n",
    "    for inputs, labels in loader:\n",
    "        output = netw(inputs.to(device))  # Feed Network\n",
    "\n",
    "        output = (torch.max(torch.exp(output), 1)[1]).data.cpu().numpy()\n",
    "        y_pred.extend(output)  # save prediction\n",
    "\n",
    "        labels = labels.data.cpu().numpy()\n",
    "        y_true.extend(labels)  # save ground truth\n",
    "\n",
    "    # constant for classes\n",
    "    classes = diz.values()\n",
    "\n",
    "    # Build confusion matrix\n",
    "    cf_matrix = confusion_matrix(y_true, y_pred)\n",
    "    #normalization\n",
    "    cmn = cf_matrix.astype('float') / cf_matrix.sum(axis=1)[:, np.newaxis]\n",
    "    \n",
    "    df_cm = pd.DataFrame(cmn, index=[i for i in classes],\n",
    "                         columns=[i for i in classes])\n",
    "    fig = plt.figure(figsize=(8, 8), dpi=125)\n",
    "    sn.heatmap(df_cm, annot=True)\n",
    "    \n",
    "    buf = io.BytesIO()\n",
    "    plt.savefig(buf, format='jpeg')\n",
    "    buf.seek(0)\n",
    "    im = Image.open(buf)\n",
    "    im = ToTensor()(im)\n",
    "    plt.close(fig)\n",
    "    return im"
   ]
  },
  {
   "cell_type": "markdown",
   "metadata": {},
   "source": [
    "### Training the network"
   ]
  },
  {
   "cell_type": "code",
   "execution_count": 26,
   "metadata": {},
   "outputs": [
    {
     "name": "stdout",
     "output_type": "stream",
     "text": [
      "cuda:0\n"
     ]
    }
   ],
   "source": [
    "print(next(net.parameters()).device)"
   ]
  },
  {
   "cell_type": "code",
   "execution_count": 27,
   "metadata": {},
   "outputs": [
    {
     "name": "stdout",
     "output_type": "stream",
     "text": [
      "[1, 50/315] loss: 3.638\n",
      "[1, 100/315] loss: 2.189\n",
      "[1, 150/315] loss: 2.106\n",
      "[1, 200/315] loss: 2.171\n",
      "[1, 250/315] loss: 2.149\n",
      "[1, 300/315] loss: 2.048\n",
      "[1] test loss: 2.215\n",
      "[2, 50/315] loss: 2.144\n",
      "[2, 100/315] loss: 2.068\n",
      "[2, 150/315] loss: 2.107\n",
      "[2, 200/315] loss: 2.080\n",
      "[2, 250/315] loss: 2.008\n",
      "[2, 300/315] loss: 2.016\n",
      "[2] test loss: 2.122\n",
      "[3, 50/315] loss: 2.035\n",
      "[3, 100/315] loss: 1.776\n",
      "[3, 150/315] loss: 2.018\n",
      "[3, 200/315] loss: 1.927\n",
      "[3, 250/315] loss: 1.868\n",
      "[3, 300/315] loss: 1.865\n",
      "[3] test loss: 2.250\n",
      "swapping nets\n",
      "[4, 50/315] loss: 2.046\n",
      "[4, 100/315] loss: 1.910\n",
      "[4, 150/315] loss: 1.930\n",
      "[4, 200/315] loss: 1.854\n",
      "[4, 250/315] loss: 1.869\n",
      "[4, 300/315] loss: 1.829\n",
      "[4] test loss: 2.202\n",
      "swapping nets\n",
      "[5, 50/315] loss: 2.004\n",
      "[5, 100/315] loss: 1.966\n",
      "[5, 150/315] loss: 1.986\n",
      "[5, 200/315] loss: 1.974\n",
      "[5, 250/315] loss: 1.880\n",
      "[5, 300/315] loss: 1.901\n",
      "[5] test loss: 2.312\n",
      "swapping nets\n",
      "[6, 50/315] loss: 2.012\n",
      "[6, 100/315] loss: 1.999\n",
      "[6, 150/315] loss: 1.919\n",
      "[6, 200/315] loss: 1.925\n",
      "[6, 250/315] loss: 1.883\n",
      "[6, 300/315] loss: 1.899\n",
      "[6] test loss: 2.250\n",
      "swapping nets\n",
      "[7, 50/315] loss: 2.039\n",
      "[7, 100/315] loss: 1.991\n",
      "[7, 150/315] loss: 1.921\n",
      "[7, 200/315] loss: 1.969\n",
      "[7, 250/315] loss: 1.861\n",
      "[7, 300/315] loss: 1.964\n",
      "[7] test loss: 2.081\n",
      "[8, 50/315] loss: 1.877\n",
      "[8, 100/315] loss: 1.894\n",
      "[8, 150/315] loss: 1.811\n",
      "[8, 200/315] loss: 1.814\n",
      "[8, 250/315] loss: 1.871\n",
      "[8, 300/315] loss: 1.761\n",
      "[8] test loss: 2.052\n",
      "[9, 50/315] loss: 1.822\n",
      "[9, 100/315] loss: 1.738\n",
      "[9, 150/315] loss: 1.784\n",
      "[9, 200/315] loss: 1.671\n",
      "[9, 250/315] loss: 1.780\n",
      "[9, 300/315] loss: 1.788\n",
      "[9] test loss: 2.191\n",
      "swapping nets\n",
      "[10, 50/315] loss: 1.747\n",
      "[10, 100/315] loss: 1.777\n",
      "[10, 150/315] loss: 1.785\n",
      "[10, 200/315] loss: 1.747\n",
      "[10, 250/315] loss: 1.666\n",
      "[10, 300/315] loss: 1.780\n",
      "[10] test loss: 1.871\n",
      "[11, 50/315] loss: 1.688\n",
      "[11, 100/315] loss: 1.642\n",
      "[11, 150/315] loss: 1.693\n",
      "[11, 200/315] loss: 1.708\n",
      "[11, 250/315] loss: 1.672\n",
      "[11, 300/315] loss: 1.758\n",
      "[11] test loss: 1.984\n",
      "swapping nets\n",
      "[12, 50/315] loss: 1.670\n",
      "[12, 100/315] loss: 1.643\n",
      "[12, 150/315] loss: 1.728\n",
      "[12, 200/315] loss: 1.681\n",
      "[12, 250/315] loss: 1.704\n",
      "[12, 300/315] loss: 1.682\n",
      "[12] test loss: 1.769\n",
      "[13, 50/315] loss: 1.590\n",
      "[13, 100/315] loss: 1.642\n",
      "[13, 150/315] loss: 1.652\n",
      "[13, 200/315] loss: 1.676\n",
      "[13, 250/315] loss: 1.581\n",
      "[13, 300/315] loss: 1.615\n",
      "[13] test loss: 1.835\n",
      "swapping nets\n",
      "[14, 50/315] loss: 1.629\n",
      "[14, 100/315] loss: 1.656\n",
      "[14, 150/315] loss: 1.677\n",
      "[14, 200/315] loss: 1.626\n",
      "[14, 250/315] loss: 1.569\n",
      "[14, 300/315] loss: 1.586\n",
      "[14] test loss: 1.807\n",
      "swapping nets\n",
      "[15, 50/315] loss: 1.579\n",
      "[15, 100/315] loss: 1.637\n",
      "[15, 150/315] loss: 1.584\n",
      "[15, 200/315] loss: 1.562\n",
      "[15, 250/315] loss: 1.540\n",
      "[15, 300/315] loss: 1.664\n",
      "[15] test loss: 1.872\n",
      "swapping nets\n",
      "[16, 50/315] loss: 1.716\n",
      "[16, 100/315] loss: 1.718\n",
      "[16, 150/315] loss: 1.507\n",
      "[16, 200/315] loss: 1.634\n",
      "[16, 250/315] loss: 1.523\n",
      "[16, 300/315] loss: 1.616\n",
      "[16] test loss: 1.823\n",
      "swapping nets\n",
      "[17, 50/315] loss: 1.720\n",
      "[17, 100/315] loss: 1.607\n",
      "[17, 150/315] loss: 1.609\n",
      "[17, 200/315] loss: 1.626\n",
      "[17, 250/315] loss: 1.571\n",
      "[17, 300/315] loss: 1.675\n",
      "[17] test loss: 1.953\n",
      "swapping nets\n",
      "[18, 50/315] loss: 1.698\n",
      "[18, 100/315] loss: 1.608\n",
      "[18, 150/315] loss: 1.701\n",
      "[18, 200/315] loss: 1.701\n",
      "[18, 250/315] loss: 1.501\n",
      "[18, 300/315] loss: 1.619\n",
      "[18] test loss: 1.841\n",
      "swapping nets\n",
      "[19, 50/315] loss: 1.692\n",
      "[19, 100/315] loss: 1.608\n",
      "[19, 150/315] loss: 1.556\n",
      "[19, 200/315] loss: 1.613\n",
      "[19, 250/315] loss: 1.564\n",
      "[19, 300/315] loss: 1.559\n",
      "[19] test loss: 1.836\n",
      "swapping nets\n",
      "[20, 50/315] loss: 1.735\n",
      "[20, 100/315] loss: 1.661\n",
      "[20, 150/315] loss: 1.520\n",
      "[20, 200/315] loss: 1.589\n",
      "[20, 250/315] loss: 1.587\n",
      "[20, 300/315] loss: 1.658\n",
      "[20] test loss: 1.841\n",
      "swapping nets\n",
      "[21, 50/315] loss: 1.719\n",
      "[21, 100/315] loss: 1.579\n",
      "[21, 150/315] loss: 1.559\n",
      "[21, 200/315] loss: 1.690\n",
      "[21, 250/315] loss: 1.641\n",
      "[21, 300/315] loss: 1.636\n",
      "[21] test loss: 1.949\n",
      "swapping nets\n",
      "[22, 50/315] loss: 1.612\n",
      "[22, 100/315] loss: 1.664\n",
      "[22, 150/315] loss: 1.573\n",
      "[22, 200/315] loss: 1.591\n",
      "[22, 250/315] loss: 1.633\n",
      "[22, 300/315] loss: 1.672\n",
      "[22] test loss: 1.765\n",
      "[23, 50/315] loss: 1.536\n",
      "[23, 100/315] loss: 1.498\n",
      "[23, 150/315] loss: 1.530\n",
      "[23, 200/315] loss: 1.599\n",
      "[23, 250/315] loss: 1.583\n",
      "[23, 300/315] loss: 1.503\n",
      "[23] test loss: 1.855\n",
      "swapping nets\n",
      "[24, 50/315] loss: 1.560\n",
      "[24, 100/315] loss: 1.571\n",
      "[24, 150/315] loss: 1.512\n",
      "[24, 200/315] loss: 1.498\n",
      "[24, 250/315] loss: 1.468\n",
      "[24, 300/315] loss: 1.593\n",
      "[24] test loss: 1.777\n",
      "swapping nets\n",
      "[25, 50/315] loss: 1.547\n",
      "[25, 100/315] loss: 1.497\n",
      "[25, 150/315] loss: 1.512\n",
      "[25, 200/315] loss: 1.535\n",
      "[25, 250/315] loss: 1.527\n",
      "[25, 300/315] loss: 1.561\n",
      "[25] test loss: 1.901\n",
      "swapping nets\n",
      "Finished Training\n",
      "best test loss: 1.765\n"
     ]
    }
   ],
   "source": [
    "best_test_loss = 10000\n",
    "for epoch in range(25):  # loop over the dataset multiple times\n",
    "    net.train()\n",
    "    running_loss = 0.0\n",
    "    for i, data in enumerate(train_dl):\n",
    "        # get the inputs; data is a list of [inputsdeviceels]\n",
    "        inputs, labels = data\n",
    "        batch_len = len(labels)\n",
    "        # inputs, labels = data[0].to(device), data[1].to(device)\n",
    "        #print (inputs.shape)\n",
    "        #inputs = inputs.permute(0, 3, 1, 2) # to get a shape of [64, 1, 600, 600]\n",
    "        inputs = inputs.to(device)\n",
    "        labels = labels.to(device)\n",
    "        #print (inputs.device, label.device)\n",
    "\n",
    "        # inputs = inputs.view(64, -1) #1° param specifico io, altri calcola lui (-1)\n",
    "\n",
    "        # zero the parameter gradients\n",
    "        optimizer.zero_grad()\n",
    "\n",
    "        # forward + backward + optimize\n",
    "        outputs = net(inputs)\n",
    "        #print (oudpi=ts.device)\n",
    "        loss = criterion(outputs, labels)\n",
    "        loss.backward()\n",
    "        optimizer.step()\n",
    "\n",
    "        # print statistics\n",
    "        running_loss += loss.item()\n",
    "        skip = 50\n",
    "        if i > 0  and i % 50 == 0:    # print every 360 images (8 images per batch, 45 loops)\n",
    "            print(f'[{epoch + 1}, {i}/{len(train_dl)}] loss: {(running_loss/skip):.3f}')\n",
    "            # ...log the running loss\n",
    "            if log_to_tb:\n",
    "                writer.add_scalar('training loss',\n",
    "                               running_loss / skip,\n",
    "                               (epoch * len(train_data)) + (i * batch_len))\n",
    "            running_loss = 0.0\n",
    "\n",
    "    #end of an epoch, calculate loss on test set (since it's small and there's no need to split)\n",
    "    with torch.no_grad():\n",
    "        test_loss = 0\n",
    "        test_batch = 0\n",
    "        net.eval()\n",
    "        for _, data in enumerate(test_dl):\n",
    "            inputs, labels = data\n",
    "            inputs = inputs.to(device)\n",
    "            labels = labels.to(device)\n",
    "            #inputs = inputs.permute(0, 3, 1, 2)\n",
    "            outputs = net(inputs)\n",
    "            loss = criterion(outputs, labels)\n",
    "            test_loss += loss.item()\n",
    "            test_batch += 1\n",
    "        actual_test_loss = test_loss/test_batch\n",
    "        print(f\"[{epoch + 1}] test loss: {(actual_test_loss):.3f}\")\n",
    "        \n",
    "        if log_to_tb:\n",
    "            writer.add_scalar('test loss',\n",
    "                           test_loss/test_batch,\n",
    "                           epoch+1)\n",
    "            # confusion matrix (added from extra step)        \n",
    "            writer.add_image(f\"confusion_matrix at epoch {epoch+1}\", createConfusionMatrix(test_dl, net), global_step=epoch)\n",
    "            writer.close()\n",
    "            \n",
    "        if actual_test_loss < best_test_loss:\n",
    "            best_test_loss = actual_test_loss\n",
    "            best_net.train()\n",
    "            best_params = deepcopy(net.state_dict())\n",
    "            best_net.load_state_dict(best_params)\n",
    "            best_net.eval()\n",
    "        else: #discard net and keep the best\n",
    "            print('swapping nets')\n",
    "            net.train()\n",
    "            old_params = deepcopy(best_net.state_dict())\n",
    "            net.load_state_dict(best_params)\n",
    "            net.eval()\n",
    "        \n",
    "\n",
    "print('Finished Training')\n",
    "print(f\"best test loss: {best_test_loss:.3f}\")"
   ]
  },
  {
   "cell_type": "code",
   "execution_count": 28,
   "metadata": {},
   "outputs": [],
   "source": [
    "#saving the trained model\n",
    "torch.save(net.state_dict(), SAVE_PATH)\n",
    "torch.save(best_net.state_dict(), SAVE_PATH2)"
   ]
  }
 ],
 "metadata": {
  "kernelspec": {
   "display_name": "Python 3 (ipykernel)",
   "language": "python",
   "name": "python3"
  },
  "language_info": {
   "codemirror_mode": {
    "name": "ipython",
    "version": 3
   },
   "file_extension": ".py",
   "mimetype": "text/x-python",
   "name": "python",
   "nbconvert_exporter": "python",
   "pygments_lexer": "ipython3",
   "version": "3.8.13"
  }
 },
 "nbformat": 4,
 "nbformat_minor": 4
}
