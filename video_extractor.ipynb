{
 "cells": [
  {
   "cell_type": "code",
   "execution_count": 1,
   "id": "5a98fd6a-2984-49ce-a454-e6445a8e6567",
   "metadata": {},
   "outputs": [],
   "source": [
    "# Importing all necessary libraries\n",
    "import cv2\n",
    "import os\n",
    "\n",
    "import torch\n",
    "from torchvision.transforms.functional import hflip\n",
    "from torchvision.transforms import CenterCrop, Resize\n",
    "import matplotlib.pyplot as plt\n",
    "\n",
    "VIDEO_PATH = 'video/conv/skoda-conv1.mp4'\n",
    "FOLDER_NAME = 'images/' + VIDEO_PATH.split('/')[-1][:-4]\n",
    "\n",
    "# Read the video from specified path\n",
    "cam = cv2.VideoCapture(VIDEO_PATH)\n",
    "\n",
    "try:\n",
    "\t\n",
    "\t# creating a folder named data\n",
    "\tif not os.path.exists(FOLDER_NAME):\n",
    "\t\tos.makedirs(FOLDER_NAME)\n",
    "\n",
    "# if not created then raise error\n",
    "except OSError:\n",
    "\tprint ('Error: Creating directory of images')"
   ]
  },
  {
   "cell_type": "code",
   "execution_count": 2,
   "id": "bacc7974-6321-4394-aabc-bfce6541594a",
   "metadata": {},
   "outputs": [],
   "source": [
    "# num of frame\n",
    "currentframe = 0\n",
    "\n",
    "while(True):\n",
    "    # reading from frame\n",
    "    ret,frame = cam.read()\n",
    "\n",
    "    if ret:\n",
    "\n",
    "        image = torch.from_numpy(frame)\n",
    "        image = image.permute(2,1,0)\n",
    "        image = Resize(300)(image)\n",
    "        image = hflip(image)\n",
    "        # if video is still left continue creating images\n",
    "        name = FOLDER_NAME + '/img' + str(currentframe) + '.jpg'\n",
    "\n",
    "        # writing the extracted images\n",
    "        cv2.imwrite(name, image.permute(1,2,0).numpy())\n",
    "        # cv2.imwrite(name, frame)\n",
    "\n",
    "        # increasing counter so that it will\n",
    "        # show how many frames are created\n",
    "        currentframe += 1\n",
    "    else:\n",
    "        break\n",
    "\n",
    "# Release all space and windows once done\n",
    "cam.release()\n",
    "cv2.destroyAllWindows()"
   ]
  }
 ],
 "metadata": {
  "kernelspec": {
   "display_name": "Python 3 (ipykernel)",
   "language": "python",
   "name": "python3"
  },
  "language_info": {
   "codemirror_mode": {
    "name": "ipython",
    "version": 3
   },
   "file_extension": ".py",
   "mimetype": "text/x-python",
   "name": "python",
   "nbconvert_exporter": "python",
   "pygments_lexer": "ipython3",
   "version": "3.8.13"
  }
 },
 "nbformat": 4,
 "nbformat_minor": 5
}
