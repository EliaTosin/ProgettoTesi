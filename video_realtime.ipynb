{
 "cells": [
  {
   "cell_type": "markdown",
   "metadata": {},
   "source": [
    "# Scopo del notebook: realizzare una demo in tempo reale che processi un video dalla videocamera e mostri le predizioni\n",
    "\n",
    "#### Costanti"
   ]
  },
  {
   "cell_type": "code",
   "execution_count": 1,
   "metadata": {
    "collapsed": false,
    "jupyter": {
     "outputs_hidden": false
    }
   },
   "outputs": [],
   "source": [
    "# dove si trova il modello da usare per le predizioni\n",
    "NN_PATH = 'trained/resnet50_out8_best.pth'\n",
    "# dove trovo le classi da predire\n",
    "LABELS_PATH = 'data/images_scraped/'\n",
    "# dimensione del mirino\n",
    "ssz=200"
   ]
  },
  {
   "cell_type": "markdown",
   "metadata": {},
   "source": [
    "### Imports"
   ]
  },
  {
   "cell_type": "code",
   "execution_count": null,
   "metadata": {
    "collapsed": false,
    "jupyter": {
     "outputs_hidden": false
    }
   },
   "outputs": [],
   "source": [
    "import torch, torchvision\n",
    "from torch.utils.data import Dataset\n",
    "from torchvision import datasets\n",
    "from torchvision.transforms import ToTensor, Resize, ToPILImage, CenterCrop, Normalize, Compose\n",
    "from torchvision.transforms.functional import to_grayscale, to_tensor, rotate, hflip, crop\n",
    "import matplotlib.pyplot as plt\n",
    "\n",
    "import random\n",
    "import pandas as pd\n",
    "from torchvision.io import read_image\n",
    "\n",
    "from torch.utils.data import DataLoader\n",
    "\n",
    "import torch.nn as nn\n",
    "import torch.nn.functional as F\n",
    "\n",
    "import torch.optim as optim\n",
    "\n",
    "from sklearn.metrics import classification_report, confusion_matrix\n",
    "\n",
    "from torch.utils.tensorboard import SummaryWriter\n",
    "from torchvision.utils import make_grid\n",
    "import seaborn as sn\n",
    "import numpy as np\n",
    "\n",
    "import io\n",
    "from PIL import Image\n",
    "from PIL.features import pilinfo\n",
    "\n",
    "from copy import deepcopy\n",
    "\n",
    "\n",
    "import traceback\n",
    "import warnings\n",
    "warnings.filterwarnings(\"error\")\n",
    "\n",
    "import cv2\n",
    "from numpy import asarray\n",
    "import copy\n",
    "import argparse\n",
    "\n",
    "import os\n",
    "import matplotlib.patches as patches"
   ]
  },
  {
   "cell_type": "markdown",
   "metadata": {},
   "source": [
    "### Caricamento del modello"
   ]
  },
  {
   "cell_type": "code",
   "execution_count": null,
   "metadata": {},
   "outputs": [],
   "source": [
    "loaded = torch.hub.load('pytorch/vision:v0.10.0', 'resnet50', pretrained=False)\n",
    "loaded.fc = torch.nn.Linear(2048,8)"
   ]
  },
  {
   "cell_type": "code",
   "execution_count": null,
   "metadata": {},
   "outputs": [],
   "source": [
    "loaded.load_state_dict(torch.load(NN_PATH))\n",
    "loaded.eval()"
   ]
  },
  {
   "cell_type": "markdown",
   "metadata": {},
   "source": [
    "#### Caricamento classi da predire"
   ]
  },
  {
   "cell_type": "code",
   "execution_count": null,
   "metadata": {},
   "outputs": [],
   "source": [
    "only_dirs = [ name for name in os.listdir(LABELS_PATH) if \n",
    "                 os.path.isdir(os.path.join(LABELS_PATH, name)) ]\n",
    "\n",
    "diz = {} #diz [key=LABEL_INDEX, value=LABEL_NAME]\n",
    "diz2 = {} #diz2 [key=LABEL_INDEX, value=PROB_PREDICTION]\n",
    "nocl=0 #num of classes\n",
    "for d in only_dirs:\n",
    "    diz[nocl] = d\n",
    "    diz2[nocl] = 0\n",
    "    nocl+=1\n",
    "    \n",
    "print(diz.values())"
   ]
  },
  {
   "cell_type": "markdown",
   "metadata": {},
   "source": [
    "#### Funzione che prende l'immagine, ritaglia il mirino e la prepara alla rete neurale"
   ]
  },
  {
   "cell_type": "code",
   "execution_count": null,
   "metadata": {},
   "outputs": [],
   "source": [
    "def preprocess(im, x0, y0):\n",
    "    cropped = crop(im, y0, x0, ssz, ssz)\n",
    "    actions = Compose([\n",
    "                Resize(300),\n",
    "                CenterCrop(300),\n",
    "                Normalize(mean=[0.485, 0.456, 0.406], std=[0.229, 0.224, 0.225]),\n",
    "            ])\n",
    "    return actions(cropped)"
   ]
  },
  {
   "cell_type": "markdown",
   "metadata": {},
   "source": [
    "### Funzione che effettua predizioni e crea grafico a barre"
   ]
  },
  {
   "cell_type": "code",
   "execution_count": null,
   "metadata": {},
   "outputs": [],
   "source": [
    "def analyze_and_drawbar(frame):\n",
    "    # predico e produco confidenze della scelta\n",
    "    target_frame = frame[None, :] # aggiungo una dimensione per simulare un batch\n",
    "    out = loaded(target_frame)\n",
    "    _, best_pred = torch.max(out.data, 1)\n",
    "    perc = torch.nn.functional.softmax(out, dim=1)[0] * 100  # recupero attivazioni e trasformo in percentuali  \n",
    "    _, indices = torch.sort(out, descending=True) # prelevo le classi\n",
    "    \n",
    "    fig, ax = plt.subplots(nrows=1, ncols=1, figsize=(16, 8))\n",
    "    #creazione grafico a barre orizzontali\n",
    "    plt.xlim(0, 100)\n",
    "    for idx in indices[0][:8]: # assegno ad ogni la classe la sua percentuale\n",
    "        diz2[idx.item()] = perc[idx].item()\n",
    "\n",
    "    keys = list(diz.keys())\n",
    "    plt.barh(keys, diz2.values())\n",
    "    ax.xaxis.set_ticks(np.linspace(0,100,11))\n",
    "    ax.set_yticks(keys, labels=list(diz.values()))\n",
    "    ax.grid(axis='x')\n",
    "    ax.tick_params(axis='both', labelsize=25)\n",
    "    ax.set_xlabel('confidence', fontsize=20, fontweight='bold')\n",
    "    ax.set_ylabel('labels', fontsize=20, fontweight='bold')\n",
    "    ax.set_title('predictions', fontsize=25, fontweight='bold')\n",
    "\n",
    "    # salvataggio del grafico in un'immagine\n",
    "    buf = io.BytesIO()\n",
    "    fig.savefig(buf, format='jpeg', bbox_inches=\"tight\", dpi=120)\n",
    "    buf.seek(0)\n",
    "    frame = Image.open(buf)\n",
    "    plt.close()\n",
    "    \n",
    "    return frame"
   ]
  },
  {
   "cell_type": "markdown",
   "metadata": {},
   "source": [
    "### Launcher della demo live"
   ]
  },
  {
   "cell_type": "code",
   "execution_count": null,
   "metadata": {},
   "outputs": [],
   "source": [
    "parser = argparse.ArgumentParser(description='Car logo realtime demo.')\n",
    "parser.add_argument('--fullscreen', action='store_true', help='run in fullscreen')\n",
    "args, unknown = parser.parse_known_args()\n",
    "\n",
    "# Test della videocamera (evita crash nel loop)\n",
    "cap = cv2.VideoCapture(0)\n",
    "cap.release()\n",
    "\n",
    "# Setup finestra (assegno nome e la metto a schermo intero)\n",
    "windowname=\"Car logo Live Demo\"\n",
    "cv2.namedWindow(windowname, cv2.WND_PROP_FULLSCREEN)\n",
    "cv2.moveWindow(windowname, 0, 0)\n",
    "cv2.setWindowProperty(windowname, cv2.WND_PROP_FULLSCREEN, cv2.WINDOW_FULLSCREEN)\n",
    "\n",
    "try:\n",
    "    cap = cv2.VideoCapture(0)\n",
    "    while(True):\n",
    "        ret, img = cap.read()\n",
    "        im = cv2.cvtColor(img, cv2.COLOR_BGR2RGB)\n",
    "        im = cv2.flip(im, 1)\n",
    "\n",
    "        # calcolo posizione del mirino\n",
    "        h, w = im.shape[0:2]\n",
    "        x0 = w // 2 - ssz // 2\n",
    "        y0 = h // 2 - ssz // 2\n",
    "\n",
    "        im_tensor = to_tensor(np.array(im)) # catturo immagine da camera\n",
    "        rect = patches.Rectangle((x0, y0), ssz, ssz, linewidth=3, \n",
    "                             edgecolor='r', facecolor=\"none\") # creo mirino\n",
    "\n",
    "        # creazione plot\n",
    "        fig = plt.figure(figsize=(16, 16), constrained_layout=True)\n",
    "        spec = fig.add_gridspec(nrows=2, ncols=2)\n",
    "\n",
    "        # personalizzo assi\n",
    "        ax_camera = fig.add_subplot(spec[0, 0])\n",
    "        ax_target = fig.add_subplot(spec[0, 1])\n",
    "        ax_barh = fig.add_subplot(spec[1, :])\n",
    "        plt.axis(\"off\")\n",
    "\n",
    "        # disegno immagine da camera\n",
    "        ax_camera.imshow(im_tensor.permute(1,2,0))\n",
    "        ax_camera.add_patch(rect)\n",
    "        ax_camera.set_title('camera view', fontsize=25, fontweight='bold')\n",
    "        ax_camera.axis('off')\n",
    "\n",
    "        # costruisco e disegno il mirino\n",
    "        frame = preprocess(im_tensor, x0, y0)\n",
    "        frame_plt = frame * torch.tensor([0.229, 0.224, 0.225]).reshape(3,1,1) + torch.tensor([0.485, 0.456, 0.406]).reshape(3,1,1)\n",
    "        ax_target.imshow(frame_plt.permute(1,2,0))\n",
    "        ax_target.set_title('target view', fontsize=25, fontweight='bold')\n",
    "        ax_target.axis('off')\n",
    "\n",
    "        # predico, costruisco e disegno grafico\n",
    "        img_barplt = analyze_and_drawbar(frame)\n",
    "        ax_barh.imshow(img_barplt)\n",
    "\n",
    "        # catturo plot\n",
    "        buf = io.BytesIO()\n",
    "        fig.savefig(buf, format='jpeg', bbox_inches='tight')\n",
    "        buf.seek(0)\n",
    "        full_screen_img = Image.open(buf)\n",
    "        plt.close()\n",
    "\n",
    "        # preparo il plot alla scrittura su video live \n",
    "        full_screen_img = (to_tensor(full_screen_img)).permute(1,2,0).numpy()\n",
    "        full_screen_img = (full_screen_img*255).astype(np.uint8)\n",
    "\n",
    "        # scrivo plot sul video live    \n",
    "        cv2.imshow(windowname,cv2.cvtColor(full_screen_img, cv2.COLOR_RGB2BGR))\n",
    "\n",
    "        # tasto che fa terminare la demo (Q)\n",
    "        key = cv2.waitKey(20)\n",
    "        if key & 0xFF == ord('q'):\n",
    "            break\n",
    "    \n",
    "except Exception:\n",
    "    print('error occured during thw while loop!')\n",
    "    cap.release()\n",
    "    cv2.startWindowThread()\n",
    "    cv2.destroyAllWindows()\n",
    "    \n",
    "cap.release()\n",
    "cv2.startWindowThread()\n",
    "cv2.destroyAllWindows()"
   ]
  }
 ],
 "metadata": {
  "kernelspec": {
   "display_name": "Python 3 (ipykernel)",
   "language": "python",
   "name": "python3"
  },
  "language_info": {
   "codemirror_mode": {
    "name": "ipython",
    "version": 3
   },
   "file_extension": ".py",
   "mimetype": "text/x-python",
   "name": "python",
   "nbconvert_exporter": "python",
   "pygments_lexer": "ipython3",
   "version": "3.8.13"
  }
 },
 "nbformat": 4,
 "nbformat_minor": 4
}
