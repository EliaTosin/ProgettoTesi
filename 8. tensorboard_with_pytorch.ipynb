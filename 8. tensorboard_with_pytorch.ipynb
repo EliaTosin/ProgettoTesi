{
 "cells": [
  {
   "cell_type": "code",
   "execution_count": 1,
   "metadata": {
    "collapsed": false,
    "jupyter": {
     "outputs_hidden": false
    }
   },
   "outputs": [],
   "source": [
    "%matplotlib inline"
   ]
  },
  {
   "cell_type": "markdown",
   "metadata": {},
   "source": [
    "Using TensorBoard in PyTorch\n",
    "-----\n",
    "\n",
    "Let’s now try using TensorBoard with PyTorch! Before logging anything, \n",
    "we need to create a ``SummaryWriter`` instance.\n",
    "\n",
    "\n"
   ]
  },
  {
   "cell_type": "code",
   "execution_count": 9,
   "metadata": {
    "collapsed": false,
    "jupyter": {
     "outputs_hidden": false
    }
   },
   "outputs": [],
   "source": [
    "import torch\n",
    "from torch.utils.tensorboard import SummaryWriter\n",
    "writer = SummaryWriter()"
   ]
  },
  {
   "cell_type": "markdown",
   "metadata": {},
   "source": [
    "Writer will output to ``./runs/`` directory by default.\n",
    "\n",
    "\n"
   ]
  },
  {
   "cell_type": "markdown",
   "metadata": {},
   "source": [
    "Log scalars\n",
    "-----\n",
    "\n",
    "In machine learning, it’s important to understand key metrics such as \n",
    "loss and how they change during training. Scalar helps to save \n",
    "the loss value of each training step, or the accuracy after each epoch. \n",
    "\n",
    "To log a scalar value, use \n",
    "``add_scalar(tag, scalar_value, global_step=None, walltime=None)``. \n",
    "For example, lets create a simple linear regression training, and \n",
    "log loss value using ``add_scalar``\n",
    "\n",
    "\n"
   ]
  },
  {
   "cell_type": "code",
   "execution_count": 10,
   "metadata": {
    "collapsed": false,
    "jupyter": {
     "outputs_hidden": false
    }
   },
   "outputs": [],
   "source": [
    "x = torch.arange(-5, 5, 0.1).view(-1, 1)\n",
    "y = -5 * x + 0.1 * torch.randn(x.size())\n",
    "\n",
    "model = torch.nn.Linear(1, 1)\n",
    "criterion = torch.nn.MSELoss()\n",
    "optimizer = torch.optim.SGD(model.parameters(), lr = 0.1)\n",
    "\n",
    "def train_model(iter):\n",
    "    for epoch in range(iter):\n",
    "        y1 = model(x)\n",
    "        loss = criterion(y1, y)\n",
    "        writer.add_scalar(\"Loss/train\", loss, epoch)\n",
    "        optimizer.zero_grad()\n",
    "        loss.backward()\n",
    "        optimizer.step()\n",
    "        \n",
    "train_model(10)\n",
    "writer.flush()"
   ]
  },
  {
   "cell_type": "markdown",
   "metadata": {},
   "source": [
    "Call ``flush()`` method to make sure that all pending events \n",
    "have been written to disk.\n",
    "\n",
    "See `torch.utils.tensorboard tutorials <https://pytorch.org/docs/stable/tensorboard.html>`_ \n",
    "to find more TensorBoard visualization types you can log.\n",
    "\n",
    "If you do not need the summary writer anymore, call ``close()`` method.\n",
    "\n",
    "\n"
   ]
  },
  {
   "cell_type": "code",
   "execution_count": 11,
   "metadata": {
    "collapsed": false,
    "jupyter": {
     "outputs_hidden": false
    }
   },
   "outputs": [],
   "source": [
    "writer.close()"
   ]
  },
  {
   "cell_type": "markdown",
   "metadata": {},
   "source": [
    "Run TensorBoard dashboard\n",
    "-----\n",
    "\n",
    " - Avviare prompt di miniconda\n",
    " - conda activate tesi\n",
    " - tensorboard --logdir=Users\\eliad\\Tesi\\ProgettoTesi\\runs\n",
    " - http://localhost:6006/\n",
    "\n",
    "For help, run ``$ tensorboard --help``.\n",
    "\n",
    "\n",
    "\n",
    "\n",
    "<div class=\"alert alert-info\"><h4>Note</h4><p>TensorBoard.dev currently supports scalars, graphs, histograms, distributions, hparams, and text dashboards.</p></div>\n",
    "\n"
   ]
  },
  {
   "cell_type": "markdown",
   "metadata": {},
   "source": [
    "Learn More\n",
    "----------------------------\n",
    "\n",
    "-  `torch.utils.tensorboard <https://pytorch.org/docs/stable/tensorboard.html>`_ docs\n",
    "-  `Visualizing models, data, and training with TensorBoard <https://pytorch.org/tutorials/intermediate/tensorboard_tutorial.html>`_ tutorial\n",
    "\n",
    "\n"
   ]
  }
 ],
 "metadata": {
  "kernelspec": {
   "display_name": "Python 3 (ipykernel)",
   "language": "python",
   "name": "python3"
  },
  "language_info": {
   "codemirror_mode": {
    "name": "ipython",
    "version": 3
   },
   "file_extension": ".py",
   "mimetype": "text/x-python",
   "name": "python",
   "nbconvert_exporter": "python",
   "pygments_lexer": "ipython3",
   "version": "3.8.13"
  }
 },
 "nbformat": 4,
 "nbformat_minor": 4
}
