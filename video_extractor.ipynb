{
 "cells": [
  {
   "cell_type": "markdown",
   "id": "708a88a5-9397-4ce1-b282-ea51720874b7",
   "metadata": {},
   "source": [
    "# Scopo del notebook: trasformare un video in una sequenza di immagini\n",
    "\n",
    "#### Imports"
   ]
  },
  {
   "cell_type": "code",
   "execution_count": null,
   "id": "905208af-29d8-4e30-b924-e541acabe72e",
   "metadata": {},
   "outputs": [],
   "source": [
    "import cv2\n",
    "import os\n",
    "\n",
    "import torch\n",
    "from torchvision.transforms.functional import hflip, rotate\n",
    "from torchvision.transforms import CenterCrop, Resize\n",
    "import matplotlib.pyplot as plt"
   ]
  },
  {
   "cell_type": "markdown",
   "id": "5ef9605e-332f-42b7-9558-34b4453b6cea",
   "metadata": {},
   "source": [
    "#### Lettura video e creazione cartella"
   ]
  },
  {
   "cell_type": "code",
   "execution_count": null,
   "id": "26b74543-07ee-4b53-8aea-3a9473367e3b",
   "metadata": {},
   "outputs": [],
   "source": [
    "# dove trovare il video\n",
    "VIDEO_PATH = 'video/conv/stress-test.mp4'\n",
    "# nome cartella (qui ha lo stesso nome del video)\n",
    "FOLDER_NAME = 'images/' + VIDEO_PATH.split('/')[-1][:-4]\n",
    "\n",
    "# lettura video\n",
    "cam = cv2.VideoCapture(VIDEO_PATH)\n",
    "\n",
    "try:\n",
    "\t\n",
    "\t# creazione della cartella\n",
    "\tif not os.path.exists(FOLDER_NAME):\n",
    "\t\tos.makedirs(FOLDER_NAME)\n",
    "\n",
    "except OSError:\n",
    "\tprint ('Errore: Non riesco a creare la cartella!')"
   ]
  },
  {
   "cell_type": "markdown",
   "id": "e12a9e61-147b-4e82-b22f-ed6bc300e4a4",
   "metadata": {},
   "source": [
    "#### Salvataggio immagini"
   ]
  },
  {
   "cell_type": "code",
   "execution_count": null,
   "id": "bacc7974-6321-4394-aabc-bfce6541594a",
   "metadata": {},
   "outputs": [],
   "source": [
    "# numero dei frame (immagine letta dal video)\n",
    "currentframe = 0\n",
    "\n",
    "while(True):\n",
    "    # leggo un frane\n",
    "    ret,frame = cam.read()\n",
    "\n",
    "    if ret: # ho letto un frame\n",
    "        image = torch.from_numpy(frame)\n",
    "        image = image.permute(2,1,0)\n",
    "        image = Resize(300)(image)\n",
    "        image = hflip(image)\n",
    "        image = rotate(image, 90)\n",
    "        # dove salvare l'immagine\n",
    "        name = FOLDER_NAME + '/img' + str(currentframe).zfill(4) + '.jpg'\n",
    "\n",
    "        # salvataggio immagine\n",
    "        cv2.imwrite(name, image.permute(1,2,0).numpy())\n",
    "\n",
    "        # aumento numero di frame (per dare nome diverso e sequenziale alle immagini)\n",
    "        currentframe += 1\n",
    "    else:\n",
    "        break\n",
    "\n",
    "# chiusura del video\n",
    "cam.release()\n",
    "cv2.destroyAllWindows()"
   ]
  }
 ],
 "metadata": {
  "kernelspec": {
   "display_name": "Python 3 (ipykernel)",
   "language": "python",
   "name": "python3"
  },
  "language_info": {
   "codemirror_mode": {
    "name": "ipython",
    "version": 3
   },
   "file_extension": ".py",
   "mimetype": "text/x-python",
   "name": "python",
   "nbconvert_exporter": "python",
   "pygments_lexer": "ipython3",
   "version": "3.8.13"
  }
 },
 "nbformat": 4,
 "nbformat_minor": 5
}
