{
 "cells": [
  {
   "cell_type": "code",
   "execution_count": 1,
   "metadata": {
    "collapsed": false,
    "jupyter": {
     "outputs_hidden": false
    }
   },
   "outputs": [],
   "source": [
    "%matplotlib inline"
   ]
  },
  {
   "cell_type": "markdown",
   "metadata": {},
   "source": [
    "\n",
    "A Gentle Introduction to ``torch.autograd``\n",
    "---------------------------------\n",
    "\n",
    "``torch.autograd`` is PyTorch’s automatic differentiation engine that powers\n",
    "neural network training. In this section, you will get a conceptual\n",
    "understanding of how autograd helps a neural network train.\n",
    "\n",
    "Background\n",
    "~~~~~~~~~~\n",
    "Neural networks (NNs) are a collection of nested functions that are\n",
    "executed on some input data. These functions are defined by *parameters*\n",
    "(consisting of weights and biases), which in PyTorch are stored in\n",
    "tensors.\n",
    "\n",
    "Training a NN happens in two steps:\n",
    "\n",
    "**Forward Propagation**: In forward prop, the NN makes its best guess\n",
    "about the correct output. It runs the input data through each of its\n",
    "functions to make this guess.\n",
    "\n",
    "**Backward Propagation**: In backprop, the NN adjusts its parameters\n",
    "proportionate to the error in its guess. It does this by traversing\n",
    "backwards from the output, collecting the derivatives of the error with\n",
    "respect to the parameters of the functions (*gradients*), and optimizing\n",
    "the parameters using gradient descent. For a more detailed walkthrough\n",
    "of backprop, check out this `video from\n",
    "3Blue1Brown <https://www.youtube.com/watch?v=tIeHLnjs5U8>`__.\n",
    "\n",
    "\n",
    "\n",
    "\n",
    "Usage in PyTorch\n",
    "~~~~~~~~~~~~~~~~\n",
    "Let's take a look at a single training step.\n",
    "For this example, we load a pretrained resnet18 model from ``torchvision``.\n",
    "We create a random data tensor to represent a single image with 3 channels, and height & width of 64,\n",
    "and its corresponding ``label`` initialized to some random values. Label in pretrained models has\n",
    "shape (1,1000).\n",
    "\n",
    "<div class=\"alert alert-info\"><h4>Note</h4><p>This tutorial work only on CPU and will not work on GPU (even if tensor are moved to CUDA).</p></div>\n"
   ]
  },
  {
   "cell_type": "code",
   "execution_count": 2,
   "metadata": {
    "collapsed": false,
    "jupyter": {
     "outputs_hidden": false
    }
   },
   "outputs": [],
   "source": [
    "import torch, torchvision\n",
    "model = torchvision.models.resnet18(pretrained=True)\n",
    "data = torch.rand(1, 3, 64, 64)\n",
    "labels = torch.rand(1, 1000)"
   ]
  },
  {
   "cell_type": "code",
   "execution_count": 3,
   "metadata": {
    "tags": []
   },
   "outputs": [
    {
     "data": {
      "text/plain": [
       "torch.Size([1, 3, 64, 64])"
      ]
     },
     "execution_count": 3,
     "metadata": {},
     "output_type": "execute_result"
    }
   ],
   "source": [
    "data.shape"
   ]
  },
  {
   "cell_type": "markdown",
   "metadata": {},
   "source": [
    "Next, we run the input data through the model through each of its layers to make a prediction.\n",
    "This is the **forward pass**.\n",
    "\n",
    "\n"
   ]
  },
  {
   "cell_type": "code",
   "execution_count": 4,
   "metadata": {
    "collapsed": false,
    "jupyter": {
     "outputs_hidden": false
    }
   },
   "outputs": [],
   "source": [
    "prediction = model(data) # forward pass"
   ]
  },
  {
   "cell_type": "markdown",
   "metadata": {},
   "source": [
    "We use the model's prediction and the corresponding label to calculate the error (``loss``).\n",
    "The next step is to backpropagate this error through the network.\n",
    "Backward propagation is kicked off when we call ``.backward()`` on the error tensor.\n",
    "\n",
    "Autograd then calculates and stores the gradients for each model parameter in the parameter's ``.grad`` attribute.\n",
    "\n",
    "\n"
   ]
  },
  {
   "cell_type": "code",
   "execution_count": 5,
   "metadata": {
    "collapsed": false,
    "jupyter": {
     "outputs_hidden": false
    }
   },
   "outputs": [],
   "source": [
    "loss = (prediction - labels).sum()\n",
    "loss.backward() # backward pass"
   ]
  },
  {
   "cell_type": "markdown",
   "metadata": {},
   "source": [
    "Next, we load an optimizer, in this case SGD with a learning rate of 0.01 and `momentum (gradient descent improved)` of 0.9.\n",
    "We register all the parameters of the model in the optimizer.\n",
    "\n",
    "\n"
   ]
  },
  {
   "cell_type": "code",
   "execution_count": 6,
   "metadata": {
    "collapsed": false,
    "jupyter": {
     "outputs_hidden": false
    }
   },
   "outputs": [],
   "source": [
    "optim = torch.optim.SGD(model.parameters(), lr=1e-2, momentum=0.9)"
   ]
  },
  {
   "cell_type": "markdown",
   "metadata": {},
   "source": [
    "Finally, we call ``.step()`` to initiate gradient descent. The optimizer adjusts each parameter by its gradient stored in ``.grad``.\n",
    "\n",
    "\n"
   ]
  },
  {
   "cell_type": "code",
   "execution_count": 7,
   "metadata": {
    "collapsed": false,
    "jupyter": {
     "outputs_hidden": false
    }
   },
   "outputs": [],
   "source": [
    "optim.step() #gradient descent"
   ]
  },
  {
   "cell_type": "markdown",
   "metadata": {},
   "source": [
    "At this point, you have everything you need to train your neural network. "
   ]
  }
 ],
 "metadata": {
  "kernelspec": {
   "display_name": "Python 3 (ipykernel)",
   "language": "python",
   "name": "python3"
  },
  "language_info": {
   "codemirror_mode": {
    "name": "ipython",
    "version": 3
   },
   "file_extension": ".py",
   "mimetype": "text/x-python",
   "name": "python",
   "nbconvert_exporter": "python",
   "pygments_lexer": "ipython3",
   "version": "3.8.13"
  }
 },
 "nbformat": 4,
 "nbformat_minor": 4
}
